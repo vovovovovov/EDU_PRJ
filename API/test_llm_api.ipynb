{
 "cells": [
  {
   "cell_type": "code",
   "execution_count": 1,
   "id": "initial_id",
   "metadata": {
    "collapsed": true,
    "ExecuteTime": {
     "end_time": "2024-09-12T10:28:49.013449Z",
     "start_time": "2024-09-12T10:28:48.297835Z"
    }
   },
   "outputs": [],
   "source": [
    "from sparkai.llm.llm import ChatSparkLLM, ChunkPrintHandler\n",
    "from sparkai.core.messages import ChatMessage\n",
    "from pprint import pprint\n",
    "\n",
    "#星火认知大模型Spark Max的URL值，其他版本大模型URL值请前往文档（https://www.xfyun.cn/doc/spark/Web.html）查看\n",
    "SPARKAI_URL = 'wss://spark-api.xf-yun.com/v3.5/chat'\n",
    "#星火认知大模型调用秘钥信息，请前往讯飞开放平台控制台（https://console.xfyun.cn/services/bm35）查看\n",
    "SPARKAI_APP_ID = '6c4adba5'\n",
    "SPARKAI_API_SECRET = 'NGUyZmIyZjUyNDY2Y2I5NzU5ZDI4MTll'\n",
    "SPARKAI_API_KEY = 'bc855be4307e0aed9a31e51297b14825'\n",
    "#星火认知大模型Spark Max的domain值，其他版本大模型domain值请前往文档（https://www.xfyun.cn/doc/spark/Web.html）查看\n",
    "SPARKAI_DOMAIN = 'generalv3.5'"
   ]
  },
  {
   "cell_type": "code",
   "outputs": [],
   "source": [
    "# api接口\n",
    "def llm_api(question):\n",
    "    spark = ChatSparkLLM(\n",
    "        spark_api_url=SPARKAI_URL,\n",
    "        spark_app_id=SPARKAI_APP_ID,\n",
    "        spark_api_key=SPARKAI_API_KEY,\n",
    "        spark_api_secret=SPARKAI_API_SECRET,\n",
    "        spark_llm_domain=SPARKAI_DOMAIN,\n",
    "        streaming=False,\n",
    "    )\n",
    "    messages = [ChatMessage(\n",
    "        role=\"user\",\n",
    "        content= question\n",
    "    )]\n",
    "    handler = ChunkPrintHandler()\n",
    "    a = spark.generate([messages], callbacks=[handler])"
   ],
   "metadata": {
    "collapsed": false,
    "ExecuteTime": {
     "end_time": "2024-09-12T10:28:59.853274Z",
     "start_time": "2024-09-12T10:28:59.848274Z"
    }
   },
   "id": "9e922bfb11eebc03",
   "execution_count": 2
  },
  {
   "cell_type": "code",
   "outputs": [],
   "source": [
    "spark = ChatSparkLLM(\n",
    "    spark_api_url=SPARKAI_URL,\n",
    "    spark_app_id=SPARKAI_APP_ID,\n",
    "    spark_api_key=SPARKAI_API_KEY,\n",
    "    spark_api_secret=SPARKAI_API_SECRET,\n",
    "    spark_llm_domain=SPARKAI_DOMAIN,\n",
    "    streaming=False,\n",
    ")\n",
    "messages = [ChatMessage(\n",
    "    role=\"user\",\n",
    "    content='你好呀'\n",
    ")]\n",
    "handler = ChunkPrintHandler()\n",
    "a = spark.generate([messages], callbacks=[handler])\n"
   ],
   "metadata": {
    "collapsed": false,
    "ExecuteTime": {
     "end_time": "2024-09-12T10:29:26.119014Z",
     "start_time": "2024-09-12T10:29:24.479267Z"
    }
   },
   "id": "50d1d8c46e57f3a6",
   "execution_count": 3
  },
  {
   "cell_type": "code",
   "outputs": [
    {
     "data": {
      "text/plain": "LLMResult(generations=[[ChatGeneration(text='你好呀，有什么想聊的吗？', message=AIMessage(content='你好呀，有什么想聊的吗？'))]], llm_output={'token_usage': {'question_tokens': 2, 'prompt_tokens': 2, 'completion_tokens': 8, 'total_tokens': 10}}, run=[RunInfo(run_id=UUID('2baae144-56a7-42fd-b639-134d1bd7488a'))])"
     },
     "execution_count": 4,
     "metadata": {},
     "output_type": "execute_result"
    }
   ],
   "source": [
    "a"
   ],
   "metadata": {
    "collapsed": false,
    "ExecuteTime": {
     "end_time": "2024-09-12T10:29:28.728563Z",
     "start_time": "2024-09-12T10:29:28.718563Z"
    }
   },
   "id": "f7101e5cfc899670",
   "execution_count": 4
  },
  {
   "cell_type": "code",
   "outputs": [],
   "source": [],
   "metadata": {
    "collapsed": false
   },
   "id": "8ee010010158e56e"
  }
 ],
 "metadata": {
  "kernelspec": {
   "display_name": "Python 3",
   "language": "python",
   "name": "python3"
  },
  "language_info": {
   "codemirror_mode": {
    "name": "ipython",
    "version": 2
   },
   "file_extension": ".py",
   "mimetype": "text/x-python",
   "name": "python",
   "nbconvert_exporter": "python",
   "pygments_lexer": "ipython2",
   "version": "2.7.6"
  }
 },
 "nbformat": 4,
 "nbformat_minor": 5
}
