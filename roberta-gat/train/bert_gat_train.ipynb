{
 "cells": [
  {
   "cell_type": "code",
   "execution_count": 1,
   "id": "initial_id",
   "metadata": {
    "collapsed": true,
    "ExecuteTime": {
     "end_time": "2024-03-16T10:52:12.879854200Z",
     "start_time": "2024-03-16T10:51:59.463134600Z"
    }
   },
   "outputs": [],
   "source": [
    "import torch\n",
    "import torch.nn as nn\n",
    "import os\n",
    "from transformers import BertTokenizer\n",
    "from dataset import CustomDataset\n",
    "from torch_geometric.loader import DataLoader\n",
    "\n",
    "os.environ['CUDA_LAUNCH_BLOCKING'] = \"1\""
   ]
  },
  {
   "cell_type": "code",
   "execution_count": 2,
   "outputs": [],
   "source": [
    "# 加载数据集\n",
    "from datasets import load_dataset, DatasetDict\n",
    "\n",
    "dataset_train = load_dataset('csv', data_files='data/train.csv', encoding='utf-8')\n",
    "dataset_test = load_dataset('csv', data_files='data/test.csv', encoding='utf-8')\n",
    "dataset_valid = load_dataset('csv', data_files='data/valid.csv', encoding='utf-8')\n",
    "dataset = DatasetDict({'train': dataset_train, 'test': dataset_test, 'validation': dataset_valid})"
   ],
   "metadata": {
    "collapsed": false,
    "ExecuteTime": {
     "end_time": "2024-03-16T10:52:19.416653200Z",
     "start_time": "2024-03-16T10:52:12.880877100Z"
    }
   },
   "id": "eed94b1c37418412"
  },
  {
   "cell_type": "code",
   "execution_count": 3,
   "outputs": [],
   "source": [
    "# bert分词\n",
    "bert_tokenizer = BertTokenizer.from_pretrained(\"bert-base-uncased\")\n",
    "def encode_batch(batch):\n",
    "    return bert_tokenizer(batch['text'], padding='max_length', truncation=True, max_length=96, return_tensors=\"pt\")\n",
    "\n",
    "dataset = {split: dataset[split].map(encode_batch, batched=True) for split in dataset.keys()} \n",
    "dataset['test']['train'] = dataset['test']['train'].remove_columns('text')\n",
    "dataset['train']['train'] = dataset['train']['train'].remove_columns('text')\n",
    "dataset['validation']['train'] = dataset['validation']['train'].remove_columns('text')"
   ],
   "metadata": {
    "collapsed": false,
    "ExecuteTime": {
     "end_time": "2024-03-16T10:52:22.116802600Z",
     "start_time": "2024-03-16T10:52:19.420821200Z"
    }
   },
   "id": "f4c5ba3447dbda95"
  },
  {
   "cell_type": "code",
   "execution_count": 4,
   "outputs": [],
   "source": [
    "from utils import get_sentence_rel\n",
    "\n",
    "# 获取边关系\n",
    "train_sen_rel = get_sentence_rel(path='data/train.csv')\n",
    "test_sen_rel = get_sentence_rel(path='data/test.csv')\n",
    "valid_sen_rel = get_sentence_rel(path='data/valid.csv')\n"
   ],
   "metadata": {
    "collapsed": false,
    "ExecuteTime": {
     "end_time": "2024-03-16T10:52:24.542321600Z",
     "start_time": "2024-03-16T10:52:22.117867200Z"
    }
   },
   "id": "9ac96ce251642cf8"
  },
  {
   "cell_type": "code",
   "execution_count": 5,
   "outputs": [],
   "source": [
    "from utils import spilt_node\n",
    "\n",
    "train_data = spilt_node(dataset['train']['train'])\n",
    "test_data = spilt_node(dataset['test']['train'])\n",
    "\n",
    "train_dataset = CustomDataset(train_data, train_sen_rel, 20, 8)\n",
    "test_dataset = CustomDataset(test_data, test_sen_rel, 20, 8)\n",
    "\n",
    "train_loader = DataLoader(train_dataset, batch_size=16, shuffle=True)\n",
    "test_loader = DataLoader(test_dataset, batch_size=16, shuffle=True)"
   ],
   "metadata": {
    "collapsed": false,
    "ExecuteTime": {
     "end_time": "2024-03-16T10:52:38.851458600Z",
     "start_time": "2024-03-16T10:52:24.562565800Z"
    }
   },
   "id": "ffdccf7120e4bb3"
  },
  {
   "cell_type": "code",
   "execution_count": 6,
   "outputs": [],
   "source": [
    "# bert\n",
    "from BertGAT import BertGAT\n",
    "device = torch.device(\"cuda\" if torch.cuda.is_available() else \"cpu\")\n",
    "# model = RobertaGAT('roberta-base', num_classes=4)\n",
    "model = BertGAT(\"bert-base-uncased\", num_classes=5)\n",
    "model.bert_first_half.to('cuda:0')\n",
    "model.bert_second_half.to('cuda:1')\n",
    "\n",
    "weights = torch.tensor([0.0855, 0.1915, 0.2766, 0.3404, 0.1915], dtype=torch.float32)\n",
    "weights = weights.to('cuda:1')  \n",
    "# weights = torch.tensor([0.1915, 0.2766, 0.3404, 0.1915], dtype=torch.float32)\n",
    "# weights = weights.to('cuda:1')  \n",
    "\n",
    "# optimizer = torch.optim.Adam(model.parameters(), lr=1e-5, weight_decay=1e-4)\n",
    "optimizer = torch.optim.AdamW(model.parameters(), lr=1e-5, weight_decay=1e-4)\n",
    "\n",
    "criterion = nn.CrossEntropyLoss(weight=weights)\n",
    "# criterion = nn.CrossEntropyLoss(ignore_index=4, weight=weights)\n",
    "num_epochs = 20"
   ],
   "metadata": {
    "collapsed": false,
    "ExecuteTime": {
     "end_time": "2024-03-16T10:52:40.644187500Z",
     "start_time": "2024-03-16T10:52:38.854587600Z"
    }
   },
   "id": "2d4a4e23caa1d529"
  },
  {
   "cell_type": "code",
   "execution_count": 7,
   "outputs": [
    {
     "name": "stdout",
     "output_type": "stream",
     "text": [
      "Epoch 1/20, Training Loss: 0.683862329020605, Testing Loss: 0.503975825874429, Accuracy: 0.8089657526453522, Recall: 0.7974878835286826, F1 Score: 0.8022083595812944\n",
      "Epoch 2/20, Training Loss: 0.47613995988945385, Testing Loss: 0.4559843940170188, Accuracy: 0.8335419274092616, Recall: 0.8238358767369609, F1 Score: 0.8334993704446543\n",
      "Epoch 3/20, Training Loss: 0.4261574537216962, Testing Loss: 0.45430984073563624, Accuracy: 0.8477642507680054, Recall: 0.8282240045734701, F1 Score: 0.8453346071807489\n",
      "Epoch 4/20, Training Loss: 0.38321725713027704, Testing Loss: 0.4546951604516883, Accuracy: 0.8402548640345887, Recall: 0.8295851776692791, F1 Score: 0.8421288366701261\n",
      "Epoch 5/20, Training Loss: 0.3530421286493867, Testing Loss: 0.47248693281098414, Accuracy: 0.8410513141426783, Recall: 0.8327702975047007, F1 Score: 0.8416487210524479\n",
      "Epoch 6/20, Training Loss: 0.318742458145697, Testing Loss: 0.4859776967450192, Accuracy: 0.8443508931619069, Recall: 0.8335105635767658, F1 Score: 0.845995796947712\n",
      "Epoch 7/20, Training Loss: 0.2918608836256541, Testing Loss: 0.5300109417814958, Accuracy: 0.8352486062123109, Recall: 0.8341662672614312, F1 Score: 0.8362983067099792\n",
      "Epoch 8/20, Training Loss: 0.27703827373929074, Testing Loss: 0.5023167815647627, Accuracy: 0.8446922289225168, Recall: 0.8337286997723645, F1 Score: 0.8433269591191077\n",
      "Epoch 9/20, Training Loss: 0.2458005070195093, Testing Loss: 0.5355840474367142, Accuracy: 0.8413926499032882, Recall: 0.8332734059860142, F1 Score: 0.8424792844918635\n",
      "Epoch 10/20, Training Loss: 0.23455359152221417, Testing Loss: 0.5375837573879644, Accuracy: 0.8438957788144271, Recall: 0.8303667413919618, F1 Score: 0.842047829069464\n",
      "Epoch 11/20, Training Loss: 0.21424887010029384, Testing Loss: 0.5643491070521506, Accuracy: 0.8419615428376379, Recall: 0.8280312325918793, F1 Score: 0.8411490423950909\n",
      "Epoch 12/20, Training Loss: 0.20267354377678462, Testing Loss: 0.5921114824320141, Accuracy: 0.8498122653316645, Recall: 0.8387548639714545, F1 Score: 0.8484293931591029\n",
      "Epoch 13/20, Training Loss: 0.1920109968837146, Testing Loss: 0.5728406310081482, Accuracy: 0.8474229150073956, Recall: 0.8382723904131015, F1 Score: 0.8486945700197751\n",
      "Epoch 14/20, Training Loss: 0.18284623697400093, Testing Loss: 0.6718632225927553, Accuracy: 0.8421891000113778, Recall: 0.8320340855743243, F1 Score: 0.8425064973906096\n",
      "Epoch 15/20, Training Loss: 0.17047543422533915, Testing Loss: 0.613919294978443, Accuracy: 0.846398907725566, Recall: 0.8334323416122318, F1 Score: 0.8440641123177999\n",
      "Epoch 16/20, Training Loss: 0.16667250957299065, Testing Loss: 0.6612668343280491, Accuracy: 0.841733985663898, Recall: 0.8306380025328807, F1 Score: 0.8410203599891322\n",
      "Epoch 17/20, Training Loss: 0.1591499115412052, Testing Loss: 0.6935389034057918, Accuracy: 0.8424166571851177, Recall: 0.831660942341777, F1 Score: 0.8425597046920569\n",
      "Epoch 18/20, Training Loss: 0.16001692058129624, Testing Loss: 0.638884889452081, Accuracy: 0.846398907725566, Recall: 0.8409939495869512, F1 Score: 0.8472805455504113\n",
      "Epoch 19/20, Training Loss: 0.15471640327474573, Testing Loss: 0.6814881061252794, Accuracy: 0.8461713505518261, Recall: 0.8354311087400138, F1 Score: 0.8460082802194716\n",
      "Epoch 20/20, Training Loss: 0.14860515980111375, Testing Loss: 0.6930239208434757, Accuracy: 0.8453749004437365, Recall: 0.8306924483556177, F1 Score: 0.843063415578482\n"
     ]
    }
   ],
   "source": [
    "from sklearn.metrics import accuracy_score, recall_score, f1_score\n",
    "\n",
    "for epoch in range(num_epochs):\n",
    "    model.train()\n",
    "    total_loss = 0\n",
    "\n",
    "    for batch in train_loader:\n",
    "        input_ids = batch[0]['x']\n",
    "        attention_mask = batch[0]['mask']\n",
    "        labels = batch[0]['y']\n",
    "        edge_index = batch[0]['edge_index']\n",
    "        num_nodes_graph = 0\n",
    "\n",
    "        for i in range(1, len(batch)):\n",
    "            edge_index_tmp = (batch[i]['edge_index'] + num_nodes_graph)\n",
    "            edge_index = torch.cat((edge_index, edge_index_tmp), dim=1)\n",
    "            num_nodes_graph += batch[i]['x'].size(0)\n",
    "            input_ids = torch.cat((input_ids, batch[i]['x']), dim=0)\n",
    "            attention_mask  = torch.cat((attention_mask, batch[i]['mask']), dim=0)\n",
    "            labels = torch.cat((labels, batch[i]['y']), dim=0)\n",
    "\n",
    "        input_ids = input_ids.to('cuda:0')\n",
    "        attention_mask = attention_mask.to('cuda:0')\n",
    "        edge_index = edge_index.to('cuda:1')\n",
    "        labels = labels.to('cuda:1')\n",
    "    \n",
    "        optimizer.zero_grad()\n",
    "        output, weight1 = model(input_ids, attention_mask, edge_index)\n",
    "        loss = criterion(output.to(\"cuda:1\"), labels)\n",
    "        # print(loss)\n",
    "        loss.backward()\n",
    "        optimizer.step()\n",
    "        total_loss += loss.item()\n",
    "\n",
    "        torch.cuda.empty_cache()\n",
    "\n",
    "    avg_loss = total_loss / len(train_loader)\n",
    "    \n",
    "    torch.save(model.state_dict(), f'./model/model_epoch_{epoch}.pth')\n",
    "    model.eval()  # 测试\n",
    "    total_test_loss = 0\n",
    "    all_labels = []\n",
    "    all_preds = []\n",
    "    with torch.no_grad():  \n",
    "        for batch in test_loader:\n",
    "            input_ids = batch[0]['x']\n",
    "            attention_mask = batch[0]['mask']\n",
    "            labels = batch[0]['y']\n",
    "            edge_index = batch[0]['edge_index']\n",
    "            num_nodes_graph = 0\n",
    "            \n",
    "            for i in range(1, len(batch)):\n",
    "                edge_index_tmp = (batch[i]['edge_index'] + num_nodes_graph)\n",
    "                edge_index = torch.cat((edge_index, edge_index_tmp), dim=1)\n",
    "                num_nodes_graph += batch[i]['x'].size(0)\n",
    "                input_ids = torch.cat((input_ids, batch[i]['x']), dim=0)\n",
    "                attention_mask  = torch.cat((attention_mask, batch[i]['mask']), dim=0)\n",
    "                labels = torch.cat((labels, batch[i]['y']), dim=0)\n",
    "                \n",
    "            input_ids = input_ids.to('cuda:0')\n",
    "            attention_mask = attention_mask.to('cuda:0')\n",
    "            edge_index = edge_index.to('cuda:1')\n",
    "            labels = labels.to('cuda:1')\n",
    "            \n",
    "            output, weight1 = model(input_ids, attention_mask, edge_index)\n",
    "            loss = criterion(output.to(\"cuda:1\"), labels)\n",
    "            total_test_loss += loss.item()\n",
    "            \n",
    "            preds = output.argmax(dim=1)\n",
    "\n",
    "            all_labels.extend(labels.cpu().numpy())\n",
    "            all_preds.extend(preds.cpu().numpy())\n",
    "            torch.cuda.empty_cache()\n",
    "            \n",
    "    avg_test_loss = total_test_loss / len(test_loader)\n",
    "\n",
    "    accuracy = accuracy_score(all_labels, all_preds)\n",
    "    recall = recall_score(all_labels, all_preds, average='macro')\n",
    "    f1 = f1_score(all_labels, all_preds, average='macro')\n",
    "    \n",
    "    print(f\"Epoch {epoch+1}/{num_epochs}, Training Loss: {avg_loss}, Testing Loss: {avg_test_loss}, Accuracy: {accuracy}, Recall: {recall}, F1 Score: {f1}\") "
   ],
   "metadata": {
    "collapsed": false,
    "ExecuteTime": {
     "end_time": "2024-03-16T12:01:32.728348100Z",
     "start_time": "2024-03-16T10:52:40.655664400Z"
    }
   },
   "id": "f8ce666abf8be2ba"
  }
 ],
 "metadata": {
  "kernelspec": {
   "display_name": "Python 3",
   "language": "python",
   "name": "python3"
  },
  "language_info": {
   "codemirror_mode": {
    "name": "ipython",
    "version": 2
   },
   "file_extension": ".py",
   "mimetype": "text/x-python",
   "name": "python",
   "nbconvert_exporter": "python",
   "pygments_lexer": "ipython2",
   "version": "2.7.6"
  }
 },
 "nbformat": 4,
 "nbformat_minor": 5
}
