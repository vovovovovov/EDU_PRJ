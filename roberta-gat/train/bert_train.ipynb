{
 "cells": [
  {
   "cell_type": "code",
   "execution_count": null,
   "id": "initial_id",
   "metadata": {
    "collapsed": true
   },
   "outputs": [],
   "source": [
    "from torch import nn\n",
    "import os\n",
    "import torch\n",
    "# 加载数据集\n",
    "from datasets import load_dataset\n",
    "# Robert分词\n",
    "from transformers import BertTokenizer\n",
    "from transformers import BertForSequenceClassification, AdamW\n",
    "from torch.utils.data import DataLoader\n",
    "from tqdm import tqdm\n",
    "\n",
    "os.environ['CUDA_LAUNCH_BLOCKING'] = \"1\"\n",
    "\n",
    "\n",
    "dataset_train = load_dataset('csv', data_files='data/train.csv', encoding='utf-8')\n",
    "dataset_val = load_dataset('csv', data_files='data/valid.csv', encoding='utf-8')\n",
    "\n",
    "\n",
    "\n",
    "tokenizer = BertTokenizer.from_pretrained(\"bert-base-uncased\")\n",
    "def encode_batch(batch):\n",
    "    return tokenizer(batch['text'], padding='max_length', truncation=True, max_length=96 , return_tensors=\"pt\")\n",
    "dataset_train = dataset_train.map(encode_batch).remove_columns(\"text\")\n",
    "dataset_val = dataset_val.map(encode_batch).remove_columns(\"text\")\n",
    "dataset_train.set_format(type='torch', columns=['input_ids', 'attention_mask', 'labels'])\n",
    "dataset_val.set_format(type='torch', columns=['input_ids', 'attention_mask', 'labels'])\n",
    "\n",
    "# 定义模型\n",
    "model = BertForSequenceClassification.from_pretrained(\"bert-base-uncased\", num_labels=4).to(\"cuda:0\")\n",
    "\n",
    "\n",
    "weights = torch.tensor([0.1915, 0.2766, 0.3404, 0.1915], dtype=torch.float32).to(\"cuda:0\")\n",
    "optimizer = AdamW(model.parameters(), lr=1e-5, weight_decay=1e-4)\n",
    "\n",
    "train_dataloader = DataLoader(dataset_train['train'], shuffle=True, batch_size=16)\n",
    "valid_dataloader = DataLoader(dataset_val['train'], shuffle=True, batch_size=16)\n",
    "certrion = nn.CrossEntropyLoss(ignore_index=4, weight=weights)\n",
    "\n"
   ]
  },
  {
   "cell_type": "code",
   "outputs": [
    {
     "name": "stderr",
     "output_type": "stream",
     "text": [
      "100%|██████████| 3110/3110 [05:33<00:00,  9.32it/s]\n",
      "100%|██████████| 611/611 [00:13<00:00, 45.29it/s]\n"
     ]
    },
    {
     "name": "stdout",
     "output_type": "stream",
     "text": [
      "Epoch 1, Loss: 0.42527758348194156\n",
      "Epoch 1, Accuracy: 0.800613810741688, Recall: 0.6656466702942392, F1 Score: 0.647775556158309\n"
     ]
    },
    {
     "name": "stderr",
     "output_type": "stream",
     "text": [
      "100%|██████████| 3110/3110 [05:33<00:00,  9.33it/s]\n",
      "100%|██████████| 611/611 [00:13<00:00, 45.33it/s]\n"
     ]
    },
    {
     "name": "stdout",
     "output_type": "stream",
     "text": [
      "Epoch 2, Loss: 0.30080432383361544\n",
      "Epoch 2, Accuracy: 0.8002046035805627, Recall: 0.666704409213122, F1 Score: 0.645903365323835\n"
     ]
    },
    {
     "name": "stderr",
     "output_type": "stream",
     "text": [
      " 33%|███▎      | 1021/3110 [01:49<03:48,  9.13it/s]"
     ]
    }
   ],
   "source": [
    "from sklearn.metrics import accuracy_score, recall_score, f1_score\n",
    "import torch\n",
    "\n",
    "epochs = 20\n",
    "for epoch in range(epochs):\n",
    "    model.train()\n",
    "    total_loss = 0\n",
    "    for batch in tqdm(train_dataloader):\n",
    "        # 将数据移动到cuda\n",
    "        batch = {k: v.to(\"cuda:0\") for k, v in batch.items()}\n",
    "        labels=batch[\"labels\"]\n",
    "        input_ids = batch[\"input_ids\"].squeeze(1)\n",
    "        attention_mask = batch[\"attention_mask\"].squeeze(1)\n",
    "        outputs = model(input_ids=input_ids,\n",
    "                        attention_mask=attention_mask)\n",
    "        logits = outputs.logits\n",
    "\n",
    "        loss = certrion(logits, labels)\n",
    "        total_loss += loss.item()\n",
    "\n",
    "        # 反向传播和优化\n",
    "        loss.backward()\n",
    "        optimizer.step()\n",
    "        optimizer.zero_grad()\n",
    "\n",
    "    \n",
    "    model.eval()\n",
    "    true_labels = []\n",
    "    predictions = []\n",
    "    with torch.no_grad():\n",
    "        for batch in tqdm(valid_dataloader):\n",
    "            batch = {k: v.to(\"cuda:0\") for k, v in batch.items()}\n",
    "            labels=batch[\"labels\"]\n",
    "            input_ids = batch[\"input_ids\"].squeeze(1)\n",
    "            attention_mask = batch[\"attention_mask\"].squeeze(1)\n",
    "            outputs = model(input_ids=input_ids,\n",
    "                        attention_mask=attention_mask)\n",
    "            logits = outputs.logits\n",
    "            predicted_labels = torch.argmax(logits, dim=1)\n",
    "            predictions.extend(predicted_labels.cpu().numpy())\n",
    "            true_labels.extend(batch[\"labels\"].cpu().numpy())\n",
    "\n",
    "    # 计算指标\n",
    "    accuracy = accuracy_score(true_labels, predictions)\n",
    "    recall = recall_score(true_labels, predictions, average='macro')  # 'macro'未加权计算每个类的指标\n",
    "    f1 = f1_score(true_labels, predictions, average='macro')\n",
    "    print(f\"Epoch {epoch+1}, Loss: {total_loss / len(train_dataloader)}\")\n",
    "    print(f\"Epoch {epoch+1}, Accuracy: {accuracy}, Recall: {recall}, F1 Score: {f1}\")"
   ],
   "metadata": {
    "collapsed": false,
    "is_executing": true,
    "ExecuteTime": {
     "start_time": "2024-03-17T04:40:59.386340200Z"
    }
   },
   "id": "3abe7bd956e7cea7",
   "execution_count": null
  }
 ],
 "metadata": {
  "kernelspec": {
   "display_name": "Python 3",
   "language": "python",
   "name": "python3"
  },
  "language_info": {
   "codemirror_mode": {
    "name": "ipython",
    "version": 2
   },
   "file_extension": ".py",
   "mimetype": "text/x-python",
   "name": "python",
   "nbconvert_exporter": "python",
   "pygments_lexer": "ipython2",
   "version": "2.7.6"
  }
 },
 "nbformat": 4,
 "nbformat_minor": 5
}
