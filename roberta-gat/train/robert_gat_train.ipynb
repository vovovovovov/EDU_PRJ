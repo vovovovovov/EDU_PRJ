{
 "cells": [
  {
   "cell_type": "code",
   "execution_count": 1,
   "id": "initial_id",
   "metadata": {
    "collapsed": true,
    "ExecuteTime": {
     "end_time": "2024-03-17T06:37:52.908834Z",
     "start_time": "2024-03-17T06:37:48.639117500Z"
    }
   },
   "outputs": [],
   "source": [
    "import torch\n",
    "import torch.nn as nn\n",
    "import os\n",
    "from model.RoBERTaGAT import RobertaGAT\n",
    "from utils.dataset import CustomDataset\n",
    "from torch_geometric.loader import DataLoader\n",
    "\n",
    "os.environ['CUDA_LAUNCH_BLOCKING'] = \"1\""
   ]
  },
  {
   "cell_type": "code",
   "execution_count": 2,
   "outputs": [],
   "source": [
    "# 加载数据集\n",
    "from datasets import load_dataset, DatasetDict\n",
    "\n",
    "dataset_train = load_dataset('csv', data_files='../data/train.csv', encoding='utf-8')\n",
    "dataset_test = load_dataset('csv', data_files='../data/test.csv', encoding='utf-8')\n",
    "dataset_valid = load_dataset('csv', data_files='../data/valid.csv', encoding='utf-8')\n",
    "dataset = DatasetDict({'train': dataset_train, 'test': dataset_test, 'validation': dataset_valid})"
   ],
   "metadata": {
    "collapsed": false,
    "ExecuteTime": {
     "end_time": "2024-03-17T06:37:57.827323900Z",
     "start_time": "2024-03-17T06:37:52.911871600Z"
    }
   },
   "id": "14b5c2fea9293287"
  },
  {
   "cell_type": "code",
   "execution_count": 3,
   "outputs": [
    {
     "data": {
      "text/plain": "Map:   0%|          | 0/10323 [00:00<?, ? examples/s]",
      "application/vnd.jupyter.widget-view+json": {
       "version_major": 2,
       "version_minor": 0,
       "model_id": "8dddabdd32594e1fbb4f9a10fc3d3e2e"
      }
     },
     "metadata": {},
     "output_type": "display_data"
    },
    {
     "data": {
      "text/plain": "Map:   0%|          | 0/9775 [00:00<?, ? examples/s]",
      "application/vnd.jupyter.widget-view+json": {
       "version_major": 2,
       "version_minor": 0,
       "model_id": "5135b60215d344ca969daa9d28b2f10f"
      }
     },
     "metadata": {},
     "output_type": "display_data"
    }
   ],
   "source": [
    "# Robert分词\n",
    "from transformers import RobertaTokenizer\n",
    "\n",
    "tokenizer = RobertaTokenizer.from_pretrained(\"roberta-base\")\n",
    "def encode_batch(batch):\n",
    "    return tokenizer(batch['text'], padding='max_length', truncation=True, max_length=96 , return_tensors=\"pt\")\n",
    "\n",
    "dataset = {split: dataset[split].map(encode_batch, batched=True) for split in dataset.keys()} \n",
    "dataset['test']['train'] = dataset['test']['train'].remove_columns('text')\n",
    "dataset['train']['train'] = dataset['train']['train'].remove_columns('text')\n",
    "dataset['validation']['train'] = dataset['validation']['train'].remove_columns('text')"
   ],
   "metadata": {
    "collapsed": false,
    "ExecuteTime": {
     "end_time": "2024-03-17T06:38:03.746807100Z",
     "start_time": "2024-03-17T06:37:57.831396200Z"
    }
   },
   "id": "c76569616aef5653"
  },
  {
   "cell_type": "code",
   "execution_count": 4,
   "outputs": [],
   "source": [
    "from utils.utils import get_sentence_rel\n",
    "\n",
    "# 获取边关系\n",
    "train_sen_rel = get_sentence_rel(path='../data/train.csv')\n",
    "test_sen_rel = get_sentence_rel(path='../data/test.csv')\n",
    "valid_sen_rel = get_sentence_rel(path='../data/valid.csv')"
   ],
   "metadata": {
    "collapsed": false,
    "ExecuteTime": {
     "end_time": "2024-03-17T06:38:05.061453500Z",
     "start_time": "2024-03-17T06:38:03.746807100Z"
    }
   },
   "id": "f26eb199a8905764"
  },
  {
   "cell_type": "code",
   "execution_count": 5,
   "outputs": [],
   "source": [
    "from utils.utils import spilt_node\n",
    "\n",
    "train_data = spilt_node(dataset['train']['train'])\n",
    "test_data = spilt_node(dataset['test']['train'])\n",
    "\n",
    "train_dataset = CustomDataset(train_data, train_sen_rel, 20, 8)\n",
    "test_dataset = CustomDataset(test_data, test_sen_rel, 20, 8)\n",
    "\n",
    "train_loader = DataLoader(train_dataset, batch_size=16, shuffle=True)\n",
    "test_loader = DataLoader(test_dataset, batch_size=16, shuffle=True)"
   ],
   "metadata": {
    "collapsed": false,
    "ExecuteTime": {
     "end_time": "2024-03-17T06:38:18.400189500Z",
     "start_time": "2024-03-17T06:38:05.071794700Z"
    }
   },
   "id": "e2f3ae016e94b4c2"
  },
  {
   "cell_type": "code",
   "execution_count": 6,
   "outputs": [
    {
     "name": "stderr",
     "output_type": "stream",
     "text": [
      "Some weights of RobertaModel were not initialized from the model checkpoint at roberta-base and are newly initialized: ['roberta.pooler.dense.bias', 'roberta.pooler.dense.weight']\n",
      "You should probably TRAIN this model on a down-stream task to be able to use it for predictions and inference.\n",
      "Some weights of RobertaModel were not initialized from the model checkpoint at roberta-base and are newly initialized: ['roberta.pooler.dense.bias', 'roberta.pooler.dense.weight']\n",
      "You should probably TRAIN this model on a down-stream task to be able to use it for predictions and inference.\n",
      "Some weights of RobertaModel were not initialized from the model checkpoint at roberta-base and are newly initialized: ['roberta.pooler.dense.bias', 'roberta.pooler.dense.weight']\n",
      "You should probably TRAIN this model on a down-stream task to be able to use it for predictions and inference.\n"
     ]
    }
   ],
   "source": [
    "device = torch.device(\"cuda\" if torch.cuda.is_available() else \"cpu\")\n",
    "# model = RobertaGAT('roberta-base', num_classes=4)\n",
    "model = RobertaGAT(\"roberta-base\", num_classes=5)\n",
    "model.roberta_first_half.to('cuda:0')\n",
    "model.roberta_second_half.to('cuda:1')\n",
    "\n",
    "weights = torch.tensor([0.0855, 0.1915, 0.2766, 0.3404, 0.1915], dtype=torch.float32)\n",
    "weights = weights.to('cuda:1')  \n",
    "# weights = torch.tensor([0.1915, 0.2766, 0.3404, 0.1915], dtype=torch.float32)\n",
    "# weights = weights.to('cuda:1')  \n",
    "\n",
    "# optimizer = torch.optim.Adam(model.parameters(), lr=1e-5, weight_decay=1e-4)\n",
    "optimizer = torch.optim.AdamW(model.parameters(), lr=1e-5, weight_decay=1e-4)\n",
    "\n",
    "criterion = nn.CrossEntropyLoss(weight=weights)\n",
    "# criterion = nn.CrossEntropyLoss(ignore_index=4, weight=weights)\n",
    "num_epochs = 20"
   ],
   "metadata": {
    "collapsed": false,
    "ExecuteTime": {
     "end_time": "2024-03-17T06:38:21.392616100Z",
     "start_time": "2024-03-17T06:38:18.405452600Z"
    }
   },
   "id": "6092069c0e03ef26"
  },
  {
   "cell_type": "code",
   "execution_count": null,
   "outputs": [],
   "source": [
    "from sklearn.metrics import accuracy_score, recall_score, f1_score, roc_auc_score\n",
    "\n",
    "for epoch in range(num_epochs):\n",
    "    model.train()\n",
    "    total_loss = 0\n",
    "\n",
    "    for batch in train_loader:\n",
    "        input_ids = batch[0]['x']\n",
    "        attention_mask = batch[0]['mask']\n",
    "        labels = batch[0]['y']\n",
    "        edge_index = batch[0]['edge_index']\n",
    "        num_nodes_graph = 0\n",
    "\n",
    "        for i in range(1, len(batch)):\n",
    "            edge_index_tmp = (batch[i]['edge_index'] + num_nodes_graph)\n",
    "            edge_index = torch.cat((edge_index, edge_index_tmp), dim=1)\n",
    "            num_nodes_graph += batch[i]['x'].size(0)\n",
    "            input_ids = torch.cat((input_ids, batch[i]['x']), dim=0)\n",
    "            attention_mask  = torch.cat((attention_mask, batch[i]['mask']), dim=0)\n",
    "            labels = torch.cat((labels, batch[i]['y']), dim=0)\n",
    "\n",
    "        input_ids = input_ids.to('cuda:0')\n",
    "        attention_mask = attention_mask.to('cuda:0')\n",
    "        edge_index = edge_index.to('cuda:1')\n",
    "        labels = labels.to('cuda:1')\n",
    "    \n",
    "        optimizer.zero_grad()\n",
    "        output, weight1 = model(input_ids, attention_mask, edge_index)\n",
    "        loss = criterion(output.to(\"cuda:1\"), labels)\n",
    "        # print(loss)\n",
    "        loss.backward()\n",
    "        optimizer.step()\n",
    "        total_loss += loss.item()\n",
    "\n",
    "        torch.cuda.empty_cache()\n",
    "\n",
    "    avg_loss = total_loss / len(train_loader)\n",
    "    \n",
    "    torch.save(model.state_dict(), f'./model/model_epoch_{epoch}.pth')\n",
    "    model.eval()  # 测试\n",
    "    total_test_loss = 0\n",
    "    all_labels = []\n",
    "    all_preds = []\n",
    "    with torch.no_grad():  \n",
    "        for batch in test_loader:\n",
    "            input_ids = batch[0]['x']\n",
    "            attention_mask = batch[0]['mask']\n",
    "            labels = batch[0]['y']\n",
    "            edge_index = batch[0]['edge_index']\n",
    "            num_nodes_graph = 0\n",
    "            \n",
    "            for i in range(1, len(batch)):\n",
    "                edge_index_tmp = (batch[i]['edge_index'] + num_nodes_graph)\n",
    "                edge_index = torch.cat((edge_index, edge_index_tmp), dim=1)\n",
    "                num_nodes_graph += batch[i]['x'].size(0)\n",
    "                input_ids = torch.cat((input_ids, batch[i]['x']), dim=0)\n",
    "                attention_mask  = torch.cat((attention_mask, batch[i]['mask']), dim=0)\n",
    "                labels = torch.cat((labels, batch[i]['y']), dim=0)\n",
    "                \n",
    "            input_ids = input_ids.to('cuda:0')\n",
    "            attention_mask = attention_mask.to('cuda:0')\n",
    "            edge_index = edge_index.to('cuda:1')\n",
    "            labels = labels.to('cuda:1')\n",
    "            \n",
    "            output, weight1 = model(input_ids, attention_mask, edge_index)\n",
    "            \n",
    "            loss = criterion(output.to(\"cuda:1\"), labels)\n",
    "            total_test_loss += loss.item()\n",
    "            \n",
    "            preds = output.argmax(dim=1)\n",
    "\n",
    "            all_labels.extend(labels.cpu().numpy())\n",
    "            all_preds.extend(preds.cpu().numpy())\n",
    "            \n",
    "\n",
    "            torch.cuda.empty_cache()\n",
    "            \n",
    "    avg_test_loss = total_test_loss / len(test_loader)\n",
    "\n",
    "    accuracy = accuracy_score(all_labels, all_preds)\n",
    "    recall = recall_score(all_labels, all_preds, average='macro')\n",
    "    f1 = f1_score(all_labels, all_preds, average='macro')\n",
    "    auc = roc_auc_score(all_labels, all_preds)\n",
    "    \n",
    "    print(f\"Epoch {epoch+1}/{num_epochs}, Training Loss: {avg_loss}, Testing Loss: {avg_test_loss}, Accuracy: {accuracy}, Recall: {recall}, F1 Score: {f1}\")"
   ],
   "metadata": {
    "collapsed": false,
    "is_executing": true,
    "ExecuteTime": {
     "start_time": "2024-03-17T06:38:21.403974100Z"
    }
   },
   "id": "cb5ba0e5a56a2b99"
  }
 ],
 "metadata": {
  "kernelspec": {
   "display_name": "Python 3",
   "language": "python",
   "name": "python3"
  },
  "language_info": {
   "codemirror_mode": {
    "name": "ipython",
    "version": 2
   },
   "file_extension": ".py",
   "mimetype": "text/x-python",
   "name": "python",
   "nbconvert_exporter": "python",
   "pygments_lexer": "ipython2",
   "version": "2.7.6"
  }
 },
 "nbformat": 4,
 "nbformat_minor": 5
}
